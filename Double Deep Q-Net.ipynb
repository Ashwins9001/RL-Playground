{
 "cells": [
  {
   "cell_type": "code",
   "execution_count": 1,
   "metadata": {},
   "outputs": [
    {
     "name": "stderr",
     "output_type": "stream",
     "text": [
      "Using TensorFlow backend.\n"
     ]
    }
   ],
   "source": [
    "from keras.layers import Dense, Activation\n",
    "from keras.models import Sequential, load_model\n",
    "from keras.optimizers import Adam\n",
    "import numpy as np"
   ]
  },
  {
   "cell_type": "code",
   "execution_count": 2,
   "metadata": {},
   "outputs": [],
   "source": [
    "class ReplayBuffer(object):\n",
    "    def __init__(self, max_size, input_shape, n_actions, discrete=False):\n",
    "        self.mem_size = max_size\n",
    "        \n",
    "        #rather than deque, use set np arrays, track index last saved\n",
    "        #store tuple of reward, q-vals, next state for experience replay\n",
    "        self.mem_counter = 0 \n",
    "        self.discrete = discrete\n",
    "        \n",
    "        #allocate table equal to rows of mem entries with cols of env observations (e.g. for lunar lander-> 8 possibile results)\n",
    "        self.state_memory = np.zeros((self.mem_size, input_shape))\n",
    "        self.new_state_memory = np.zeros((self.mem_size, input_shape))\n",
    "        dtype = np.int8 if self.discrete else np.float32 #for continuous actions: decimals; discrete space: int w/ 8 possibilities\n",
    "        \n",
    "        #set dtype to index np array for experience replay, table will store either int or decimals depending on dtype \n",
    "        self.action_memory = np.zeros((self.mem_size, n_actions), dtype=dtype) #possible actions for lunar lander-> 4\n",
    "        self.new_state_memory = np.zeros((self.mem_size, input_shape))\n",
    "        self.reward_memory = np.zeros(self.mem_size)\n",
    "        #sampling transitions for eps, future reward at terminal state is zero, must accomodate and store incase\n",
    "        self.terminal_memory = np.zeros(self.mem_size, dtype=np.float32)\n",
    "        \n",
    "    #add transitions to mem    \n",
    "    def store_transition(self, state, action, reward, state_, done):\n",
    "        index = self.mem_counter % self.mem_size #ensure mem overwritten when mem_size surpassed \n",
    "        self.state_memory[index] = state\n",
    "        self.new_state_memory[index] = state_\n",
    "        if self.discrete:\n",
    "            #retrieve num actions from cols of action_mem if discrete space\n",
    "            actions = np.zeros(self.action_memory.shape[1])\n",
    "            #provide one-hot encoding for selected action\n",
    "            #ex: [0, 0, 0, 1, 0, 0, 0, 0] -> at state x, agent takes actions[3] = 1, goes to state_ y\n",
    "            actions[action] = 1.0\n",
    "            #store entire arr of actions at each index in mem\n",
    "            self.action_memory[index] = actions\n",
    "        else:\n",
    "            self.action_memory[action] = action\n",
    "        self.reward_memory[index] = reward\n",
    "        self.terminal_memory[index] = 1 - int(done)\n",
    "        self.mem_counter += 1\n",
    "    \n",
    "    #define sample size for mem; prefer to not have sequential observation samples, else correlations \n",
    "    #agent will inaccurately prioritise certain state-action pairs\n",
    "    def sample_buffer(self, batch_size):\n",
    "        max_mem = min(self.mem_counter, self.mem_size)\n",
    "        #select batch_size entries from range: [0, max_mem]\n",
    "        batch = np.random.choice(max_mem, batch_size) \n",
    "        states = self.action_memory[batch]\n",
    "        new_states = self.action_memory[batch]\n",
    "        rewards = self.reward_memory[batch]\n",
    "        actions = self.action_memory[batch]\n",
    "        terminal = self.terminal_memory[batch]\n",
    "        \n",
    "        return states, actions, rewards, new_states, terminal\n",
    "    "
   ]
  },
  {
   "cell_type": "code",
   "execution_count": 1,
   "metadata": {},
   "outputs": [],
   "source": [
    "def build_dqn(learning_rate, n_actions, input_dims, fc1_dims, fc2_dims):\n",
    "    #input shape has empty placeholder; implies batch provided \n",
    "    model = Sequential([Dense(fc1_dims, input_shape(input_dims, )),\n",
    "                        Activation('relu'),\n",
    "                        Dense(fc2_dims),\n",
    "                        Activation('relu'),\n",
    "                        Dense(n_actions)])\n",
    "    modile.compile(optimizer=Adam(lr=learning_rate, loss='mse'))\n",
    "    return model"
   ]
  },
  {
   "cell_type": "code",
   "execution_count": null,
   "metadata": {},
   "outputs": [],
   "source": [
    "class DDQNAction(object):\n",
    "    #epsilon continues decreasing over time to ensure less random actions taken as optimal path will be found \n",
    "    #replace target net weights every 100 eps to update for action eval\n",
    "    def __init__(self, alpha, gamma, n_actions, epsilon, batch_size, input_dims, \n",
    "                 epsilon_dec=0.996, epsilon_end=0.01, mem_size=1000000, fname='ddqn_model.h5',\n",
    "                replace_target=100):\n",
    "        self.action_space = [i for i in range(self.n_actions)]\n",
    "        self.gamma = gamma\n",
    "        self.epsilon = epsilon\n",
    "        self.epsilon_dec = epsilon_dec\n",
    "        self.epsilon_min = epsilon_min\n",
    "        self.batch_size = batch_size\n",
    "        self.model = fname\n",
    "        self.replace_target = replace_target\n",
    "        self.memory = ReplayBuffer(mem_size, input_dims, n_actions, True)\n",
    "        self.q_eval = build_dqn(alpha, n_actions, input_dims, 256, 256)\n",
    "        self.q_target = build_dqn(alpha, n_actions, input_dims, 256, 256)\n",
    "        \n",
    "    def remember(self, state, action, reward, new_state, done):\n",
    "        self.memory.store_transition(state, action, reward, new_state, done)\n",
    "        \n",
    "    def choose_action(self, state):\n",
    "        #insert axis along first-dim (row), ensures single-mem entries can be handled in addition to batches for NN input\n",
    "        state = state[np.newaxis, :]\n",
    "        rand = np.random.random()\n",
    "        if rand < self.epsilon:\n",
    "            action = np.random.choice(self.action_space)\n",
    "        else:\n",
    "            #predict defined by keras, runs feed-fwd to compute output (vec of action q-vals)\n",
    "            actions = self.q_eval.predict(state)\n",
    "            action = np.argmax(actions)\n",
    "        return action"
   ]
  }
 ],
 "metadata": {
  "kernelspec": {
   "display_name": "Python 3",
   "language": "python",
   "name": "python3"
  },
  "language_info": {
   "codemirror_mode": {
    "name": "ipython",
    "version": 3
   },
   "file_extension": ".py",
   "mimetype": "text/x-python",
   "name": "python",
   "nbconvert_exporter": "python",
   "pygments_lexer": "ipython3",
   "version": "3.7.7"
  }
 },
 "nbformat": 4,
 "nbformat_minor": 4
}
