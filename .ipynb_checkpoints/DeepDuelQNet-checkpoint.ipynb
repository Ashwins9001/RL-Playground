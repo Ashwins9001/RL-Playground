{
 "cells": [
  {
   "cell_type": "code",
   "execution_count": null,
   "metadata": {},
   "outputs": [],
   "source": [
    "import tensorflow as tf\n",
    "import tensorflow.keras as keras\n",
    "from tensorflow.keras.optimizers import Adam\n",
    "import numpy as np"
   ]
  },
  {
   "cell_type": "code",
   "execution_count": 1,
   "metadata": {},
   "outputs": [
    {
     "ename": "NameError",
     "evalue": "name 'keras' is not defined",
     "output_type": "error",
     "traceback": [
      "\u001b[1;31m---------------------------------------------------------------------------\u001b[0m",
      "\u001b[1;31mNameError\u001b[0m                                 Traceback (most recent call last)",
      "\u001b[1;32m<ipython-input-1-f4e921036610>\u001b[0m in \u001b[0;36m<module>\u001b[1;34m\u001b[0m\n\u001b[0;32m      2\u001b[0m \u001b[1;31m#Seperate val state, val action to cover state-space generally\u001b[0m\u001b[1;33m\u001b[0m\u001b[1;33m\u001b[0m\u001b[1;33m\u001b[0m\u001b[0m\n\u001b[0;32m      3\u001b[0m \u001b[1;31m#Improves computation in scenario where ideal action is nothing, saves time over computing ALL state-action pairs\u001b[0m\u001b[1;33m\u001b[0m\u001b[1;33m\u001b[0m\u001b[1;33m\u001b[0m\u001b[0m\n\u001b[1;32m----> 4\u001b[1;33m \u001b[1;32mclass\u001b[0m \u001b[0mDuelingDeepQNetwork\u001b[0m\u001b[1;33m(\u001b[0m\u001b[0mkeras\u001b[0m\u001b[1;33m.\u001b[0m\u001b[0mModel\u001b[0m\u001b[1;33m)\u001b[0m\u001b[1;33m:\u001b[0m\u001b[1;33m\u001b[0m\u001b[1;33m\u001b[0m\u001b[0m\n\u001b[0m\u001b[0;32m      5\u001b[0m     \u001b[1;32mdef\u001b[0m \u001b[0m__init__\u001b[0m\u001b[1;33m(\u001b[0m\u001b[0mself\u001b[0m\u001b[1;33m,\u001b[0m \u001b[0mfc1_dims\u001b[0m\u001b[1;33m,\u001b[0m \u001b[0mfc2_dims\u001b[0m\u001b[1;33m,\u001b[0m \u001b[0mn_actions\u001b[0m\u001b[1;33m)\u001b[0m\u001b[1;33m:\u001b[0m\u001b[1;33m\u001b[0m\u001b[1;33m\u001b[0m\u001b[0m\n\u001b[0;32m      6\u001b[0m         \u001b[0msuper\u001b[0m\u001b[1;33m(\u001b[0m\u001b[0mDuelingDeepQNetwork\u001b[0m\u001b[1;33m,\u001b[0m \u001b[0mself\u001b[0m\u001b[1;33m)\u001b[0m\u001b[1;33m.\u001b[0m\u001b[0m__init__\u001b[0m\u001b[1;33m(\u001b[0m\u001b[1;33m)\u001b[0m\u001b[1;33m\u001b[0m\u001b[1;33m\u001b[0m\u001b[0m\n",
      "\u001b[1;31mNameError\u001b[0m: name 'keras' is not defined"
     ]
    }
   ],
   "source": [
    "#Dueling Deep Q Networks do not require val computation of all state-action pairs\n",
    "#Seperate val state, val action to cover state-space generally \n",
    "#Improves computation in scenario where ideal action is nothing, saves time over computing ALL state-action pairs\n",
    "class DuelingDeepQNetwork(keras.Model):\n",
    "    def __init__(self, n_actions, fc1_dims, fc2_dims):\n",
    "        super(DuelingDeepQNetwork, self).__init__()\n",
    "        self.dense1 = keras.layers.Dense(fc1_dims, activation='relu')\n",
    "        self.dense2 = keras.layers.Dense(fc2_dims, activation='relu')\n",
    "        self.Value = keras.layers.Dense(1, activation=None) #output raw val state\n",
    "        self.Advantage = keras.layers.Dense(n_actions, activation=None) #importance of taking action\n",
    "        \n",
    "    #advantage & value streams are combined to form Q(s, a) estimate\n",
    "    #cannot simply sum both, require addl op to compute & derive advantage & val from Q(s, a)\n",
    "    #Q(s, a) still computed, ideally can apply normal/prioritized exp replay, other Q-learning algos\n",
    "    def call(self, state):\n",
    "        #feed-fwd through dense layers, then val, adv streams\n",
    "        x = self.dense1(state)\n",
    "        x = self.dense2(x)\n",
    "        Value = self.Value(x)\n",
    "        Advantage = self.Advantage(x)\n",
    "        \n",
    "        Q = (Value + (Advantage - tf.math.reduce_mean(Advantage, axis=1, keepdims=True)))\n",
    "        return Q\n",
    "    \n",
    "    def advantage(self, state):\n",
    "        x = self.dense1(state)\n",
    "        x = self.dense2(x)\n",
    "        Advantage = self.Advantage(x)\n",
    "        \n",
    "        return Advantage"
   ]
  },
  {
   "cell_type": "code",
   "execution_count": 2,
   "metadata": {},
   "outputs": [],
   "source": [
    "class ReplayBuffer():\n",
    "    def __init__(self, max_size, input_shape):\n",
    "        self.mem_size = max_size\n",
    "        self.mem_cntr = 0\n",
    "\n",
    "        self.state_memory = np.zeros((self.mem_size, *input_shape),\n",
    "                                        dtype=np.float32)\n",
    "        self.new_state_memory = np.zeros((self.mem_size, *input_shape),\n",
    "                                        dtype=np.float32)\n",
    "        self.action_memory = np.zeros(self.mem_size, dtype=np.int32)\n",
    "        self.reward_memory = np.zeros(self.mem_size, dtype=np.float32)\n",
    "        self.terminal_memory = np.zeros(self.mem_size, dtype=np.bool)\n",
    "\n",
    "    def store_transition(self, state, action, reward, state_, done):\n",
    "        index = self.mem_cntr % self.mem_size\n",
    "        self.state_memory[index] = state\n",
    "        self.new_state_memory[index] = state_\n",
    "        self.action_memory[index] = action\n",
    "        self.reward_memory[index] = reward\n",
    "        self.terminal_memory[index] = done\n",
    "\n",
    "        self.mem_cntr += 1\n",
    "\n",
    "    def sample_buffer(self, batch_size):\n",
    "        max_mem = min(self.mem_cntr, self.mem_size)\n",
    "        batch = np.random.choice(max_mem, batch_size, replace=False)\n",
    "\n",
    "        states = self.state_memory[batch]\n",
    "        new_states = self.new_state_memory[batch]\n",
    "        actions = self.action_memory[batch]\n",
    "        rewards = self.reward_memory[batch]\n",
    "        dones = self.terminal_memory[batch]\n",
    "\n",
    "        return states, actions, rewards, new_states, dones"
   ]
  },
  {
   "cell_type": "code",
   "execution_count": null,
   "metadata": {},
   "outputs": [],
   "source": [
    "class Agent():\n",
    "    #replace defines when target net params updated (copied from online net) to provide model stability \n",
    "    def __init__(self, learning_rate, gamma, n_actions, epsilon, batch_size, input_dims, \n",
    "                epsilon_dec=1e-3, eps_end=0.01, \n",
    "                mem_size=1000000, fname='dueling_dqn.h5', fc1_dims=128,\n",
    "                fc2_dims=128, replace=100):\n",
    "        self.action_space = [i for i in range(n_actions)]\n",
    "        self.gamma = gamma\n",
    "        self. epsilon = epsilon\n",
    "        self.eps_dec = epsilon_dec\n",
    "        self.eps_end = eps_end\n",
    "        self.fname = fname\n",
    "        self.replace = replace\n",
    "        \n",
    "        self.learn_step_counter = 0\n",
    "        self.memory = ReplayBuffer(mem_size, input_dims)\n",
    "        self.q_eval = DuelingDeepQNetwork(n_actions, fc1_dims, fc2_dims) #online net \n",
    "        self.q_next = DuelingDeepQNetwork(n_actions, fc1_dims, fc2_dims) #target net  \n",
    "        \n",
    "        self.q_eval.compile(optimizer=Adam(learning_rate=learning_rate), loss='mean_squared_error')\n",
    "        self.q_next.compile(optimizer=Adam(learning_rate=learning_rate), loss='mean_squared_error')\n",
    "        \n",
    "    def store_transition(self, state, action, reward, new_state, done):\n",
    "        self.memory.store_transition(state, action, reward, new_state, done)\n",
    "        \n",
    "    def choose_action(self, observation):\n",
    "        if np.random.random() < self.epsilon:\n",
    "            action = np.random.choice(self.action_space)\n",
    "        else:\n",
    "            state = np.array([observation]) #add dim\n",
    "            actions = self.q_eval.advantage(state) #determine importance of all actions \n",
    "            action = tf.math.argmax(actions, axis=1).numpy()[0] #provide index greatest action, returns single-elem arr, deref & access val\n",
    "    \n",
    "    "
   ]
  }
 ],
 "metadata": {
  "kernelspec": {
   "display_name": "Python 3",
   "language": "python",
   "name": "python3"
  },
  "language_info": {
   "codemirror_mode": {
    "name": "ipython",
    "version": 3
   },
   "file_extension": ".py",
   "mimetype": "text/x-python",
   "name": "python",
   "nbconvert_exporter": "python",
   "pygments_lexer": "ipython3",
   "version": "3.7.7"
  }
 },
 "nbformat": 4,
 "nbformat_minor": 4
}
