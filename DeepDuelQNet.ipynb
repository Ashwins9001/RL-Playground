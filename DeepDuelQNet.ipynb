{
 "cells": [
  {
   "cell_type": "code",
   "execution_count": null,
   "metadata": {},
   "outputs": [],
   "source": [
    "import tensorflow as tf\n",
    "import tensorflow.keras as keras\n",
    "from tensorflow.keras.optimizers import Adam\n",
    "import numpy as np"
   ]
  },
  {
   "cell_type": "code",
   "execution_count": null,
   "metadata": {},
   "outputs": [],
   "source": [
    "#Dueling Deep Q Networks do not require val computation of all state-action pairs\n",
    "#Seperate val state, val action to cover state-space generally \n",
    "#Improves computation in scenario where ideal action is nothing, saves time over computing ALL state-action pairs\n",
    "class DuelingDeepQNetwork(keras.Model):\n",
    "    def __init__(self, fc1_dims, fc2_dims, n_actions):\n",
    "        super(DuelingDeepQNetwork, self).__init__()\n",
    "        self.dense1 = keras.layers.Dense(fc1_dims, activation='relu')\n",
    "        self.dense2 = keras.layers.Dense(fc2_dims, activation='relu')\n",
    "        self.Value = keras.layers.Dense(1, activation=None) #output raw val state\n",
    "        self.Advantage = keras.layers.Dense(n_actions, activation=None) #importance of taking action\n",
    "        \n",
    "    #advantage & value streams are combined to form Q(s, a) estimate\n",
    "    #cannot simply sum both, require addl op to compute & derive advantage & val from Q(s, a)\n",
    "    #Q(s, a) still computed, ideally can apply normal/prioritized exp replay, other Q-learning algos\n",
    "    def call(self, state):\n",
    "        #feed-fwd through dense layers, then val, adv streams\n",
    "        x = self.dense1(state)\n",
    "        x = self.dense2(x)\n",
    "        Value = self.Value(x)\n",
    "        Advantage = self.Advantage(x)\n",
    "        \n",
    "        Q = (Value + (Advantage - tf.math.reduce_mean(Advantage, axis=1, keepdims=True)))\n",
    "        return Q\n",
    "    \n",
    "    def advntage(self, state):\n",
    "        x = self.dense1(state)\n",
    "        x = self.dense2(x)\n",
    "        Advantage = self.Advantage(x)\n",
    "        \n",
    "        return Advantage"
   ]
  }
 ],
 "metadata": {
  "kernelspec": {
   "display_name": "Python 3",
   "language": "python",
   "name": "python3"
  },
  "language_info": {
   "codemirror_mode": {
    "name": "ipython",
    "version": 3
   },
   "file_extension": ".py",
   "mimetype": "text/x-python",
   "name": "python",
   "nbconvert_exporter": "python",
   "pygments_lexer": "ipython3",
   "version": "3.7.7"
  }
 },
 "nbformat": 4,
 "nbformat_minor": 4
}
